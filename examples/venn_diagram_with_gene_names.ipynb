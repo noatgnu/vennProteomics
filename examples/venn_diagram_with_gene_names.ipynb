{
 "cells": [
  {
   "cell_type": "code",
   "execution_count": null,
   "metadata": {
    "collapsed": true,
    "pycharm": {
     "name": "#%%\n"
    }
   },
   "outputs": [],
   "source": [
    "# pip install vennproteomics\n",
    "\n",
    "from vennproteomics.analysis import Analysis\n",
    "import matplotlib.pyplot as plt\n",
    "import pandas as pd"
   ]
  },
  {
   "cell_type": "code",
   "execution_count": null,
   "outputs": [],
   "source": [
    "# Read file\n",
    "data = pd.read_csv(r\"C:\\Users\\Toan Phung\\Downloads\\GolgiIP_HEK293_Alessi Lab.txt\", sep=\"\\t\")\n",
    "\n",
    "# Filter for significant\n",
    "significant_data = data[(data[\"Significant GolgiTAG-IP/Control-IP\"]==\"+\") & (data[\"Fold enrichment (Log2): GolgiTAG-IP/Control-IP\"]>=2)]"
   ],
   "metadata": {
    "collapsed": false,
    "pycharm": {
     "name": "#%%\n"
    }
   }
  },
  {
   "cell_type": "code",
   "execution_count": null,
   "outputs": [],
   "source": [
    "# Start analysis\n",
    "vp = Analysis()\n",
    "\n",
    "# Adding data\n",
    "vp.add_data(significant_data, gene_name_column=\"Gene.names\",\n",
    "            has_gene_name=True, label=\"Significant GolgiTAG-IP/Control-IP\")\n",
    "vp.add_data(r\"C:\\Users\\Toan Phung\\Downloads\\Golgi.txt\", gene_name_column=\"FC>1\", label=\"FC>1\",\n",
    "            has_gene_name=True)\n",
    "vp.add_data(r\"C:\\Users\\Toan Phung\\Downloads\\Golgi.txt\", gene_name_column=\"FC<1\", label=\"FC<1\",\n",
    "            has_gene_name=True)"
   ],
   "metadata": {
    "collapsed": false,
    "pycharm": {
     "name": "#%%\n"
    }
   }
  },
  {
   "cell_type": "code",
   "execution_count": null,
   "outputs": [],
   "source": [
    "# Draw data\n",
    "fig, ax = plt.subplots()\n",
    "vp.create_venn_diagram(ax)\n",
    "plt.tight_layout()\n",
    "fig.savefig(\"result.svg\")"
   ],
   "metadata": {
    "collapsed": false,
    "pycharm": {
     "name": "#%%\n"
    }
   }
  }
 ],
 "metadata": {
  "kernelspec": {
   "display_name": "Python 3",
   "language": "python",
   "name": "python3"
  },
  "language_info": {
   "codemirror_mode": {
    "name": "ipython",
    "version": 2
   },
   "file_extension": ".py",
   "mimetype": "text/x-python",
   "name": "python",
   "nbconvert_exporter": "python",
   "pygments_lexer": "ipython2",
   "version": "2.7.6"
  }
 },
 "nbformat": 4,
 "nbformat_minor": 0
}